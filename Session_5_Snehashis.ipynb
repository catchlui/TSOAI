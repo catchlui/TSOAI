{
  "nbformat": 4,
  "nbformat_minor": 0,
  "metadata": {
    "colab": {
      "provenance": [],
      "gpuType": "T4",
      "toc_visible": true
    },
    "kernelspec": {
      "name": "python3",
      "display_name": "Python 3"
    },
    "language_info": {
      "name": "python"
    },
    "accelerator": "GPU",
    "gpuClass": "standard"
  },
  "cells": [
    {
      "cell_type": "markdown",
      "source": [
        "CODE BLOCK: 1"
      ],
      "metadata": {
        "id": "n09vaEgP6pLj"
      }
    },
    {
      "cell_type": "markdown",
      "source": [
        "# New Section"
      ],
      "metadata": {
        "id": "8rIDnho6Lg3-"
      }
    },
    {
      "cell_type": "code",
      "source": [
        "# Mount your google drive in google colab\n",
        "from google.colab import drive\n",
        "drive.mount('/content/drive')"
      ],
      "metadata": {
        "colab": {
          "base_uri": "https://localhost:8080/"
        },
        "id": "reaP6scqS0ok",
        "outputId": "6f6b65c1-54ec-4d08-c4cf-8e15472a4dce"
      },
      "execution_count": null,
      "outputs": [
        {
          "output_type": "stream",
          "name": "stdout",
          "text": [
            "Mounted at /content/drive\n"
          ]
        }
      ]
    },
    {
      "cell_type": "code",
      "source": [
        "# Insert the directory\n",
        "import sys\n",
        "sys.path.insert(0,\"/content/drive/My Drive/TSOAI/S5\")"
      ],
      "metadata": {
        "id": "cvsNwTvZV0Xt"
      },
      "execution_count": null,
      "outputs": []
    },
    {
      "cell_type": "code",
      "execution_count": null,
      "metadata": {
        "id": "6PlbomWY3RSq"
      },
      "outputs": [],
      "source": [
        "## All the libraries are imported\n",
        "import torch\n",
        "import torch.nn as nn\n",
        "import torch.nn.functional as F\n",
        "import torch.optim as optim\n",
        "from torchvision import datasets, transforms\n",
        "import matplotlib.pyplot as plt\n",
        "import torchsummary"
      ]
    },
    {
      "cell_type": "markdown",
      "source": [
        "CODE BLOCK: 2"
      ],
      "metadata": {
        "id": "VjBHHQVA6sXt"
      }
    },
    {
      "cell_type": "code",
      "source": [
        "# Check if Cuda is available otherwise set the device to CPU\n",
        "device = 'cuda' if torch.cuda.is_available() else 'cpu'"
      ],
      "metadata": {
        "id": "94BxVVBP3WwS"
      },
      "execution_count": null,
      "outputs": []
    },
    {
      "cell_type": "markdown",
      "source": [
        "CODE BLOCK: 3"
      ],
      "metadata": {
        "id": "3UHq59Sw6tmW"
      }
    },
    {
      "cell_type": "code",
      "source": [
        "# Train data transformations\n",
        "#\n",
        "train_transforms = transforms.Compose([\n",
        "    # Randomly applies a center crop to the image with a probability of 0.1\n",
        "    transforms.RandomApply([transforms.CenterCrop(22), ], p=0.1),\n",
        "    # Resizes the image to a size of (28, 28)\n",
        "    transforms.Resize((28, 28)),\n",
        "    # Randomly rotates the image within the range of -15 to 15 degrees\n",
        "    # Fills the empty areas resulting from rotation with a value of 0\n",
        "    transforms.RandomRotation((-15., 15.), fill=0),\n",
        "    # Converts the image to a tensor\n",
        "    transforms.ToTensor(),\n",
        "    # Normalizes the image tensor using mean and standard deviation values\n",
        "    # The mean and standard deviation values (0.1307, 0.3081) are used for standard normalization\n",
        "    transforms.Normalize((0.1307,), (0.3081,)),\n",
        "    ])\n",
        "\n",
        "# Test data transformations\n",
        "test_transforms = transforms.Compose([\n",
        "    # Converts the image to a tensor\n",
        "    transforms.ToTensor(),\n",
        "    # Normalizes the image tensor using mean and standard deviation values\n",
        "    # The mean and standard deviation values (0.1307, 0.3081) are used for standard normalization\n",
        "    transforms.Normalize((0.1307,), (0.3081,))\n",
        "    ])"
      ],
      "metadata": {
        "id": "KpshQ2Ug38m2"
      },
      "execution_count": null,
      "outputs": []
    },
    {
      "cell_type": "markdown",
      "source": [
        "CODE BLOCK: 4"
      ],
      "metadata": {
        "id": "zQm17pM46zHL"
      }
    },
    {
      "cell_type": "code",
      "source": [
        "#This line of code creates a dataset object for the MNIST dataset that will be used for training.\n",
        "#The dataset will be downloaded (if not already present) and stored in the ../data directory. \n",
        "#The train=True argument indicates that the training split of the MNIST dataset is being used.\n",
        "#download=True ensures that the dataset is downloaded from the internet if it is not already available locally.\n",
        "#transform=train_transforms applies the set of transformations (train_transforms) to each sample in the training dataset. These transformations include random cropping, resizing, rotation, tensor conversion, and normalization.\n",
        "train_data = datasets.MNIST('../data', train=True, download=True, transform=train_transforms)\n",
        "#This line of code creates a dataset object for the MNIST dataset that will be used for testing\n",
        "# train equals to false indicates it won't be used for training\n",
        "# it downloads the file to the respective directory\n",
        "# applies the tensor conversion,normalization\n",
        "test_data = datasets.MNIST('../data', train=False, download=True, transform=test_transforms)"
      ],
      "metadata": {
        "id": "JB79ZYW13-AO"
      },
      "execution_count": null,
      "outputs": []
    },
    {
      "cell_type": "markdown",
      "source": [
        "CODE BLOCK: 5"
      ],
      "metadata": {
        "id": "_PKSHxto6116"
      }
    },
    {
      "cell_type": "code",
      "source": [
        "# at one go 512 images would be processed\n",
        "batch_size = 512\n",
        "#This code defines a dictionary named kwargs that contains various arguments or parameters for configuring the behavior of a data loader.\n",
        "#'batch_size': batch_size specifies the number of samples to include in each batch during data loading. The batch_size variable should be assigned a desired batch size value.\n",
        "#'shuffle': True indicates that the data loader should shuffle the samples in each epoch. Shuffling the data helps to randomize the order in which samples are presented to the model during training, which can improve learning performance and prevent any potential bias.\n",
        "#'num_workers': 2 specifies the number of worker processes to use for data loading. These worker processes load the data in parallel, which can speed up the data loading process. The value of 2 here suggests that two worker processes will be used.\n",
        "#'pin_memory': True enables the data to be directly pinned in memory. This is useful when transferring data between the CPU and GPU during training. By pinning the memory, data transfer can be faster, especially when using CUDA-based computations with GPUs.\n",
        "kwargs = {'batch_size': batch_size, 'shuffle': True, 'num_workers': 2, 'pin_memory': True}\n",
        "#This line creates a data loader object named test_loader using the torch.utils.data.DataLoader class. The data loader is responsible for loading data from the test_data dataset.\n",
        "#The resulting test_loader object can be used to iterate over the test dataset in batches, providing easy access to the test samples for evaluation or inference.\n",
        "test_loader = torch.utils.data.DataLoader(test_data, **kwargs)\n",
        "#The resulting train_loader object can be used to iterate over the train dataset in batches, providing easy access to the training samples for training\n",
        "#This line creates a data loader object named train_loader using the torch.utils.data.DataLoader class. The data loader is responsible for loading data from the train_data dataset.\n",
        "train_loader = torch.utils.data.DataLoader(train_data, **kwargs)"
      ],
      "metadata": {
        "id": "avCKK1uL4A68"
      },
      "execution_count": null,
      "outputs": []
    },
    {
      "cell_type": "markdown",
      "source": [
        "CODE BLOCK: 6"
      ],
      "metadata": {
        "id": "Hi_0rfq56-29"
      }
    },
    {
      "cell_type": "code",
      "source": [
        "\n",
        "#This line retrieves a batch of data and corresponding labels from the train_loader data loader.\n",
        "#The iter() function is called on the train_loader object to create an iterator that can be used to sequentially access batches of data.\n",
        "#The next() function is then called on the iterator to retrieve the next batch of data.\n",
        "#batch_data refers to a batch of input data samples from the training dataset. Each sample in the batch represents an input to a machine learning model.\n",
        "#batch_label refers to the corresponding labels for the input data samples in the batch. These labels represent the ground truth or target values associated with the input data.\n",
        "#By calling next() on the iterator, a single batch of data and labels is retrieved for further processing or training.\n",
        "batch_data, batch_label = next(iter(train_loader)) \n",
        "# setting up for the plotting of the images\n",
        "fig = plt.figure()\n",
        "# displays 12 images\n",
        "for i in range(12):\n",
        "  plt.subplot(3,4,i+1)\n",
        "  plt.tight_layout()\n",
        "  # displaying the image by removing the 0th dimension,which is channel\n",
        "  plt.imshow(batch_data[i].squeeze(0), cmap='gray')\n",
        "  # displaying the label \n",
        "  plt.title(batch_label[i].item())\n",
        "  #This line modifies the x-axis of the current plot to remove the tick marks.\n",
        "  plt.xticks([])\n",
        "  #This line modifies the y-axis of the current plot to remove the tick marks.\n",
        "  plt.yticks([])"
      ],
      "metadata": {
        "id": "Hx7QkLcw4Epc",
        "colab": {
          "base_uri": "https://localhost:8080/",
          "height": 463
        },
        "outputId": "bf9f9e88-0886-41ec-d691-fe7cab409a01"
      },
      "execution_count": null,
      "outputs": [
        {
          "output_type": "display_data",
          "data": {
            "text/plain": [
              "<Figure size 640x480 with 12 Axes>"
            ],
            "image/png": "[encoded data removed]"
          },
          "metadata": {}
        }
      ]
    },
    {
      "cell_type": "markdown",
      "source": [
        "CODE BLOCK: 7"
      ],
      "metadata": {
        "id": "y3XbVJSb7Aee"
      }
    },
    {
      "cell_type": "code",
      "source": [
        "# from the utility.py import train and test functions\n",
        "from utility import train,test\n",
        "#from model.py import Net class where the model architecture is defined\n",
        "from model import Net"
      ],
      "metadata": {
        "id": "EOZWV5c-XIxU"
      },
      "execution_count": null,
      "outputs": []
    },
    {
      "cell_type": "markdown",
      "source": [
        "CODE BLOCK: 8"
      ],
      "metadata": {
        "id": "89gd4_s7AO2y"
      }
    },
    {
      "cell_type": "markdown",
      "source": [
        "CODE BLOCK: 9"
      ],
      "metadata": {
        "id": "kCwIPHqwAQgB"
      }
    },
    {
      "cell_type": "markdown",
      "source": [
        "CODE BLOCK: 10"
      ],
      "metadata": {
        "id": "09GYKBGRAT5M"
      }
    },
    {
      "cell_type": "code",
      "source": [
        "# Instantiate the object and move it to the device available (cuda or CPU)\n",
        "model = Net().to(device)\n",
        "\n",
        "#summary(model, input_size=(1, 28, 28))\n",
        "#This line creates an optimizer object named optimizer using the Stochastic Gradient Descent (SGD) optimization algorithm.\n",
        "#optim refers to the module in PyTorch that provides various optimization algorithms.\n",
        "\n",
        "#SGD stands for Stochastic Gradient Descent, which is a widely used optimization algorithm in machine learning and deep learning.\n",
        "\n",
        "#model.parameters() returns an iterable containing the parameters (i.e., weights and biases) of the model object. These are the learnable parameters that will be updated during training.\n",
        "\n",
        "#lr=0.01 sets the learning rate for the optimizer. The learning rate determines the step size at each iteration during the optimization process. \n",
        "#momentum=0.9 sets the momentum for the optimizer. Momentum is a technique used to accelerate the optimization process by accumulating the gradients of past iterations. It helps the optimizer to move more confidently in the direction of steepest descent and overcome local minima. \n",
        "#The optimizer object will be used to update the model's parameters based on the computed gradients during the training process.\n",
        "\n",
        "#optimizer.step() method to performs parameter update based on the computed gradients, and then call optimizer.zero_grad() to reset the gradients to zero before computing the gradients for the next batch.\n",
        "optimizer = optim.SGD(model.parameters(), lr=0.01, momentum=0.9)\n",
        "#This line creates a learning rate scheduler object named scheduler using the StepLR scheduler from the optim.lr_scheduler module in PyTorch.\n",
        "#StepLR is a learning rate scheduler that adjusts the learning rate based on fixed step intervals.\n",
        "#optimizer refers to the optimizer object that is being used to update the model's parameters during training. The scheduler will adjust the learning rate of this optimizer.\n",
        "#step_size=15 specifies the number of epochs after which the learning rate will be decreased. In this case, the learning rate will be decreased every 15 epochs.\n",
        "#gamma=0.1 determines the factor by which the learning rate will be multiplied. In this case, the learning rate will be multiplied by 0.1 at each step.\n",
        "#verbose=True enables verbose output, meaning that information about the learning rate adjustments will be printed during training.\n",
        "\n",
        "scheduler = optim.lr_scheduler.StepLR(optimizer, step_size=15, gamma=0.1, verbose=True)\n",
        "# New Line\n",
        "#creates a loss function object named criterion using the CrossEntropyLoss class from the nn module in PyTorch.\n",
        "#The CrossEntropyLoss function combines the concepts of log_softmax (logarithm of softmax) and negative log likelihood loss into a single loss function.\n",
        "#The CrossEntropyLoss function expects the input to be logits (raw outputs from the model) rather than probabilities. Therefore, there is no need to apply a softmax activation function to the model's output before using this loss function.\n",
        "criterion = nn.CrossEntropyLoss()\n",
        "\n",
        "# Data to plot accuracy and loss graphs\n",
        "train_losses = []\n",
        "test_losses = []\n",
        "train_acc = []\n",
        "test_acc = []\n",
        "# Number of Epochs or how many times the entire data is used for training\n",
        "num_epochs = 20\n",
        "# Looping for each of the epoch\n",
        "for epoch in range(1, num_epochs+1):\n",
        "  print(f'Epoch {epoch}')\n",
        "  ## Send the model , device , train_loader,optimizer and loss function to the train function\n",
        "  train_accuracy,train_loss = train(model, device, train_loader, optimizer, criterion)\n",
        "  # Append the train accuracy and train loss value of the ith epoch \n",
        "  train_acc.append(train_accuracy)\n",
        "  train_losses.append(train_loss)\n",
        "  ## Send the model,device,test_loader and loss function\n",
        "  test_accuracy,test_loss = test(model, device, test_loader, criterion)\n",
        "  #store the test and loss and test accuracy for this epoch\n",
        "  test_losses.append(test_loss)\n",
        "  test_acc.append(test_accuracy)\n",
        "  #  learning rate of the optimizer will be adjusted according to the predefined schedule\n",
        "  scheduler.step()"
      ],
      "metadata": {
        "id": "Owqiet9M4TV7",
        "colab": {
          "base_uri": "https://localhost:8080/"
        },
        "outputId": "7d66054e-36b5-43d2-9997-9fbb26ffbb45"
      },
      "execution_count": null,
      "outputs": [
        {
          "output_type": "stream",
          "name": "stdout",
          "text": [
            "Adjusting learning rate of group 0 to 1.0000e-02.\n",
            "Epoch 1\n"
          ]
        },
        {
          "output_type": "stream",
          "name": "stderr",
          "text": [
            "Train: Loss=0.5924 Batch_id=117 Accuracy=41.69: 100%|██████████| 118/118 [00:29<00:00,  3.95it/s]\n"
          ]
        },
        {
          "output_type": "stream",
          "name": "stdout",
          "text": [
            "Test set: Average loss: 0.0007, Accuracy: 8984/10000 (89.84%)\n",
            "\n",
            "Adjusting learning rate of group 0 to 1.0000e-02.\n",
            "Epoch 2\n"
          ]
        },
        {
          "output_type": "stream",
          "name": "stderr",
          "text": [
            "Train: Loss=0.1581 Batch_id=117 Accuracy=92.92: 100%|██████████| 118/118 [00:22<00:00,  5.30it/s]\n"
          ]
        },
        {
          "output_type": "stream",
          "name": "stdout",
          "text": [
            "Test set: Average loss: 0.0002, Accuracy: 9719/10000 (97.19%)\n",
            "\n",
            "Adjusting learning rate of group 0 to 1.0000e-02.\n",
            "Epoch 3\n"
          ]
        },
        {
          "output_type": "stream",
          "name": "stderr",
          "text": [
            "Train: Loss=0.0632 Batch_id=117 Accuracy=96.30: 100%|██████████| 118/118 [00:21<00:00,  5.41it/s]\n"
          ]
        },
        {
          "output_type": "stream",
          "name": "stdout",
          "text": [
            "Test set: Average loss: 0.0002, Accuracy: 9746/10000 (97.46%)\n",
            "\n",
            "Adjusting learning rate of group 0 to 1.0000e-02.\n",
            "Epoch 4\n"
          ]
        },
        {
          "output_type": "stream",
          "name": "stderr",
          "text": [
            "Train: Loss=0.0864 Batch_id=117 Accuracy=96.96: 100%|██████████| 118/118 [00:22<00:00,  5.17it/s]\n"
          ]
        },
        {
          "output_type": "stream",
          "name": "stdout",
          "text": [
            "Test set: Average loss: 0.0001, Accuracy: 9847/10000 (98.47%)\n",
            "\n",
            "Adjusting learning rate of group 0 to 1.0000e-02.\n",
            "Epoch 5\n"
          ]
        },
        {
          "output_type": "stream",
          "name": "stderr",
          "text": [
            "Train: Loss=0.0979 Batch_id=117 Accuracy=97.50: 100%|██████████| 118/118 [00:23<00:00,  5.06it/s]\n"
          ]
        },
        {
          "output_type": "stream",
          "name": "stdout",
          "text": [
            "Test set: Average loss: 0.0001, Accuracy: 9826/10000 (98.26%)\n",
            "\n",
            "Adjusting learning rate of group 0 to 1.0000e-02.\n",
            "Epoch 6\n"
          ]
        },
        {
          "output_type": "stream",
          "name": "stderr",
          "text": [
            "Train: Loss=0.0176 Batch_id=117 Accuracy=97.78: 100%|██████████| 118/118 [00:23<00:00,  5.10it/s]\n"
          ]
        },
        {
          "output_type": "stream",
          "name": "stdout",
          "text": [
            "Test set: Average loss: 0.0001, Accuracy: 9864/10000 (98.64%)\n",
            "\n",
            "Adjusting learning rate of group 0 to 1.0000e-02.\n",
            "Epoch 7\n"
          ]
        },
        {
          "output_type": "stream",
          "name": "stderr",
          "text": [
            "Train: Loss=0.0920 Batch_id=117 Accuracy=98.07: 100%|██████████| 118/118 [00:21<00:00,  5.45it/s]\n"
          ]
        },
        {
          "output_type": "stream",
          "name": "stdout",
          "text": [
            "Test set: Average loss: 0.0001, Accuracy: 9873/10000 (98.73%)\n",
            "\n",
            "Adjusting learning rate of group 0 to 1.0000e-02.\n",
            "Epoch 8\n"
          ]
        },
        {
          "output_type": "stream",
          "name": "stderr",
          "text": [
            "Train: Loss=0.0654 Batch_id=117 Accuracy=98.28: 100%|██████████| 118/118 [00:21<00:00,  5.42it/s]\n"
          ]
        },
        {
          "output_type": "stream",
          "name": "stdout",
          "text": [
            "Test set: Average loss: 0.0001, Accuracy: 9891/10000 (98.91%)\n",
            "\n",
            "Adjusting learning rate of group 0 to 1.0000e-02.\n",
            "Epoch 9\n"
          ]
        },
        {
          "output_type": "stream",
          "name": "stderr",
          "text": [
            "Train: Loss=0.0713 Batch_id=117 Accuracy=98.35: 100%|██████████| 118/118 [00:23<00:00,  5.07it/s]\n"
          ]
        },
        {
          "output_type": "stream",
          "name": "stdout",
          "text": [
            "Test set: Average loss: 0.0001, Accuracy: 9884/10000 (98.84%)\n",
            "\n",
            "Adjusting learning rate of group 0 to 1.0000e-02.\n",
            "Epoch 10\n"
          ]
        },
        {
          "output_type": "stream",
          "name": "stderr",
          "text": [
            "Train: Loss=0.1089 Batch_id=117 Accuracy=98.51: 100%|██████████| 118/118 [00:23<00:00,  5.06it/s]\n"
          ]
        },
        {
          "output_type": "stream",
          "name": "stdout",
          "text": [
            "Test set: Average loss: 0.0001, Accuracy: 9902/10000 (99.02%)\n",
            "\n",
            "Adjusting learning rate of group 0 to 1.0000e-02.\n",
            "Epoch 11\n"
          ]
        },
        {
          "output_type": "stream",
          "name": "stderr",
          "text": [
            "Train: Loss=0.0851 Batch_id=117 Accuracy=98.56: 100%|██████████| 118/118 [00:23<00:00,  5.10it/s]\n"
          ]
        },
        {
          "output_type": "stream",
          "name": "stdout",
          "text": [
            "Test set: Average loss: 0.0001, Accuracy: 9899/10000 (98.99%)\n",
            "\n",
            "Adjusting learning rate of group 0 to 1.0000e-02.\n",
            "Epoch 12\n"
          ]
        },
        {
          "output_type": "stream",
          "name": "stderr",
          "text": [
            "Train: Loss=0.0358 Batch_id=117 Accuracy=98.71: 100%|██████████| 118/118 [00:22<00:00,  5.32it/s]\n"
          ]
        },
        {
          "output_type": "stream",
          "name": "stdout",
          "text": [
            "Test set: Average loss: 0.0001, Accuracy: 9909/10000 (99.09%)\n",
            "\n",
            "Adjusting learning rate of group 0 to 1.0000e-02.\n",
            "Epoch 13\n"
          ]
        },
        {
          "output_type": "stream",
          "name": "stderr",
          "text": [
            "Train: Loss=0.0449 Batch_id=117 Accuracy=98.65: 100%|██████████| 118/118 [00:21<00:00,  5.37it/s]\n"
          ]
        },
        {
          "output_type": "stream",
          "name": "stdout",
          "text": [
            "Test set: Average loss: 0.0001, Accuracy: 9905/10000 (99.05%)\n",
            "\n",
            "Adjusting learning rate of group 0 to 1.0000e-02.\n",
            "Epoch 14\n"
          ]
        },
        {
          "output_type": "stream",
          "name": "stderr",
          "text": [
            "Train: Loss=0.0125 Batch_id=117 Accuracy=98.80: 100%|██████████| 118/118 [00:22<00:00,  5.30it/s]\n"
          ]
        },
        {
          "output_type": "stream",
          "name": "stdout",
          "text": [
            "Test set: Average loss: 0.0000, Accuracy: 9913/10000 (99.13%)\n",
            "\n",
            "Adjusting learning rate of group 0 to 1.0000e-02.\n",
            "Epoch 15\n"
          ]
        },
        {
          "output_type": "stream",
          "name": "stderr",
          "text": [
            "Train: Loss=0.1216 Batch_id=117 Accuracy=98.84: 100%|██████████| 118/118 [00:23<00:00,  5.08it/s]\n"
          ]
        },
        {
          "output_type": "stream",
          "name": "stdout",
          "text": [
            "Test set: Average loss: 0.0000, Accuracy: 9923/10000 (99.23%)\n",
            "\n",
            "Adjusting learning rate of group 0 to 1.0000e-03.\n",
            "Epoch 16\n"
          ]
        },
        {
          "output_type": "stream",
          "name": "stderr",
          "text": [
            "Train: Loss=0.1120 Batch_id=117 Accuracy=99.07: 100%|██████████| 118/118 [00:23<00:00,  5.12it/s]\n"
          ]
        },
        {
          "output_type": "stream",
          "name": "stdout",
          "text": [
            "Test set: Average loss: 0.0000, Accuracy: 9926/10000 (99.26%)\n",
            "\n",
            "Adjusting learning rate of group 0 to 1.0000e-03.\n",
            "Epoch 17\n"
          ]
        },
        {
          "output_type": "stream",
          "name": "stderr",
          "text": [
            "Train: Loss=0.0821 Batch_id=117 Accuracy=99.14: 100%|██████████| 118/118 [00:21<00:00,  5.41it/s]\n"
          ]
        },
        {
          "output_type": "stream",
          "name": "stdout",
          "text": [
            "Test set: Average loss: 0.0000, Accuracy: 9928/10000 (99.28%)\n",
            "\n",
            "Adjusting learning rate of group 0 to 1.0000e-03.\n",
            "Epoch 18\n"
          ]
        },
        {
          "output_type": "stream",
          "name": "stderr",
          "text": [
            "Train: Loss=0.0060 Batch_id=117 Accuracy=99.18: 100%|██████████| 118/118 [00:21<00:00,  5.43it/s]\n"
          ]
        },
        {
          "output_type": "stream",
          "name": "stdout",
          "text": [
            "Test set: Average loss: 0.0000, Accuracy: 9927/10000 (99.27%)\n",
            "\n",
            "Adjusting learning rate of group 0 to 1.0000e-03.\n",
            "Epoch 19\n"
          ]
        },
        {
          "output_type": "stream",
          "name": "stderr",
          "text": [
            "Train: Loss=0.0016 Batch_id=117 Accuracy=99.12: 100%|██████████| 118/118 [00:22<00:00,  5.14it/s]\n"
          ]
        },
        {
          "output_type": "stream",
          "name": "stdout",
          "text": [
            "Test set: Average loss: 0.0000, Accuracy: 9925/10000 (99.25%)\n",
            "\n",
            "Adjusting learning rate of group 0 to 1.0000e-03.\n",
            "Epoch 20\n"
          ]
        },
        {
          "output_type": "stream",
          "name": "stderr",
          "text": [
            "Train: Loss=0.0802 Batch_id=117 Accuracy=99.17: 100%|██████████| 118/118 [00:22<00:00,  5.14it/s]\n"
          ]
        },
        {
          "output_type": "stream",
          "name": "stdout",
          "text": [
            "Test set: Average loss: 0.0000, Accuracy: 9929/10000 (99.29%)\n",
            "\n",
            "Adjusting learning rate of group 0 to 1.0000e-03.\n"
          ]
        }
      ]
    },
    {
      "cell_type": "markdown",
      "source": [
        "CODE BLOCK: 11"
      ],
      "metadata": {
        "id": "B-LM-Z1k6FcF"
      }
    },
    {
      "cell_type": "code",
      "source": [
        "# four plots are generated for train loss,train accuray ,test loss and test accuracy\n",
        "fig, axs = plt.subplots(2,2,figsize=(15,10))\n",
        "axs[0, 0].plot(train_losses)\n",
        "axs[0, 0].set_title(\"Training Loss\")\n",
        "axs[1, 0].plot(train_acc)\n",
        "axs[1, 0].set_title(\"Training Accuracy\")\n",
        "axs[0, 1].plot(test_losses)\n",
        "axs[0, 1].set_title(\"Test Loss\")\n",
        "axs[1, 1].plot(test_acc)\n",
        "axs[1, 1].set_title(\"Test Accuracy\")"
      ],
      "metadata": {
        "colab": {
          "base_uri": "https://localhost:8080/",
          "height": 788
        },
        "id": "Wu0l7dli4eC9",
        "outputId": "30a7c3a5-f1dc-4a48-97ed-98bef945409c"
      },
      "execution_count": null,
      "outputs": [
        {
          "output_type": "execute_result",
          "data": {
            "text/plain": [
              "Text(0.5, 1.0, 'Test Accuracy')"
            ]
          },
          "metadata": {},
          "execution_count": 13
        },
        {
          "output_type": "display_data",
          "data": {
            "text/plain": [
              "<Figure size 1500x1000 with 4 Axes>"
            ],
            "image/png": "[encoded data removed]"
          },
          "metadata": {}
        }
      ]
    },
    {
      "cell_type": "markdown",
      "source": [
        "# New Section"
      ],
      "metadata": {
        "id": "4r05ulD-KX6Z"
      }
    }
  ]
}