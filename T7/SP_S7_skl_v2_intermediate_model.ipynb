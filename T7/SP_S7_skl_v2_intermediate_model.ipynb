{
  "nbformat": 4,
  "nbformat_minor": 0,
  "metadata": {
    "colab": {
      "provenance": []
    },
    "kernelspec": {
      "name": "python3",
      "display_name": "Python 3"
    },
    "accelerator": "GPU"
  },
  "cells": [
    {
      "cell_type": "code",
      "source": [
        "from google.colab import drive\n",
        "drive.mount('/content/drive')"
      ],
      "metadata": {
        "id": "gMn5LGymiAv0"
      },
      "execution_count": null,
      "outputs": []
    },
    {
      "cell_type": "code",
      "source": [
        "# Insert the directory\n",
        "import sys\n",
        "sys.path.insert(0,\"/content/drive/My Drive/TSOAI/S6\")"
      ],
      "metadata": {
        "id": "2EWr0UzttC8N"
      },
      "execution_count": null,
      "outputs": []
    },
    {
      "cell_type": "code",
      "metadata": {
        "id": "0m2JWFliFfKT"
      },
      "source": [
        "from __future__ import print_function\n",
        "import torch\n",
        "import torch.nn as nn\n",
        "import torch.nn.functional as F\n",
        "import torch.optim as optim\n",
        "from torchvision import datasets, transforms\n",
        "import matplotlib.pyplot as plt\n",
        "from torchsummary import summary\n",
        "#from model import Net\n",
        "from model import train,test,Net4\n",
        "from utils import display_model_summary\n",
        "from matplotlib import pyplot as plt"
      ],
      "execution_count": 25,
      "outputs": []
    },
    {
      "cell_type": "code",
      "source": [
        "# Train Phase transformations\n",
        "train_transforms = transforms.Compose([\n",
        "                                      #  transforms.Resize((28, 28)),\n",
        "                                      #  transforms.ColorJitter(brightness=0.10, contrast=0.1, saturation=0.10, hue=0.1),\n",
        "                                       transforms.RandomRotation((-7.0, 7.0), fill=(1,)),\n",
        "                                       transforms.ToTensor(),\n",
        "                                       transforms.Normalize((0.1307,), (0.3081,)) # The mean and std have to be sequences (e.g., tuples), therefore you should add a comma after the values.\n",
        "                                       # Note the difference between (0.1307) and (0.1307,)\n",
        "                                       ])\n",
        "\n",
        "# Test Phase transformations\n",
        "test_transforms = transforms.Compose([\n",
        "                                      #  transforms.Resize((28, 28)),\n",
        "                                      #  transforms.ColorJitter(brightness=0.10, contrast=0.1, saturation=0.10, hue=0.1),\n",
        "                                       transforms.ToTensor(),\n",
        "                                       transforms.Normalize((0.1307,), (0.3081,))\n",
        "                                       ])"
      ],
      "metadata": {
        "id": "v2rSq36NvrHr"
      },
      "execution_count": 26,
      "outputs": []
    },
    {
      "cell_type": "code",
      "source": [
        "train = datasets.MNIST('./data', train=True, download=True, transform=train_transforms)\n",
        "test = datasets.MNIST('./data', train=False, download=True, transform=test_transforms)"
      ],
      "metadata": {
        "id": "oTmVAkiIvtH4"
      },
      "execution_count": 13,
      "outputs": []
    },
    {
      "cell_type": "code",
      "metadata": {
        "id": "DqTWLaM5GHgH",
        "colab": {
          "base_uri": "https://localhost:8080/"
        },
        "outputId": "0b530fa3-5381-4330-cf01-afa9f5d31e45"
      },
      "source": [
        "SEED = 1\n",
        "\n",
        "# CUDA?\n",
        "cuda = torch.cuda.is_available()\n",
        "print(\"CUDA Available?\", cuda)\n",
        "\n",
        "# For reproducibility\n",
        "torch.manual_seed(SEED)\n",
        "\n",
        "if cuda:\n",
        "    torch.cuda.manual_seed(SEED)\n",
        "\n",
        "# dataloader arguments - something you'll fetch these from cmdprmt\n",
        "dataloader_args = dict(shuffle=True, batch_size=64, num_workers=4, pin_memory=True) if cuda else dict(shuffle=True, batch_size=64)\n",
        "\n",
        "# train dataloader\n",
        "train_loader = torch.utils.data.DataLoader(train, **dataloader_args)\n",
        "\n",
        "# test dataloader\n",
        "test_loader = torch.utils.data.DataLoader(test, **dataloader_args)"
      ],
      "execution_count": 14,
      "outputs": [
        {
          "output_type": "stream",
          "name": "stdout",
          "text": [
            "CUDA Available? True\n"
          ]
        },
        {
          "output_type": "stream",
          "name": "stderr",
          "text": [
            "/usr/local/lib/python3.10/dist-packages/torch/utils/data/dataloader.py:560: UserWarning: This DataLoader will create 4 worker processes in total. Our suggested max number of worker in current system is 2, which is smaller than what this DataLoader is going to create. Please be aware that excessive worker creation might get DataLoader running slow or even freeze, lower the worker number to avoid potential slowness/freeze if necessary.\n",
            "  warnings.warn(_create_warning_msg(\n"
          ]
        }
      ]
    },
    {
      "cell_type": "code",
      "source": [
        "use_cuda = torch.cuda.is_available()\n",
        "device = torch.device(\"cuda\" if use_cuda else \"cpu\")\n",
        "print(device)\n",
        "# instantiate the model and load it to the device\n",
        "model = Net4().to(device)\n",
        "#model\n",
        "display_model_summary(model)"
      ],
      "metadata": {
        "colab": {
          "base_uri": "https://localhost:8080/"
        },
        "id": "hbn3yNwzwk1v",
        "outputId": "ce6f5e56-b4a5-4e9c-deb9-ac4517a472bf"
      },
      "execution_count": 23,
      "outputs": [
        {
          "output_type": "stream",
          "name": "stdout",
          "text": [
            "cuda\n",
            "----------------------------------------------------------------\n",
            "        Layer (type)               Output Shape         Param #\n",
            "================================================================\n",
            "            Conv2d-1           [-1, 10, 26, 26]              90\n",
            "              ReLU-2           [-1, 10, 26, 26]               0\n",
            "       BatchNorm2d-3           [-1, 10, 26, 26]              20\n",
            "            Conv2d-4           [-1, 12, 24, 24]           1,080\n",
            "              ReLU-5           [-1, 12, 24, 24]               0\n",
            "       BatchNorm2d-6           [-1, 12, 24, 24]              24\n",
            "            Conv2d-7           [-1, 12, 22, 22]           1,296\n",
            "              ReLU-8           [-1, 12, 22, 22]               0\n",
            "           Dropout-9           [-1, 12, 22, 22]               0\n",
            "      BatchNorm2d-10           [-1, 12, 22, 22]              24\n",
            "        MaxPool2d-11           [-1, 12, 11, 11]               0\n",
            "           Conv2d-12           [-1, 12, 11, 11]             144\n",
            "             ReLU-13           [-1, 12, 11, 11]               0\n",
            "          Dropout-14           [-1, 12, 11, 11]               0\n",
            "      BatchNorm2d-15           [-1, 12, 11, 11]              24\n",
            "           Conv2d-16             [-1, 12, 9, 9]           1,296\n",
            "             ReLU-17             [-1, 12, 9, 9]               0\n",
            "      BatchNorm2d-18             [-1, 12, 9, 9]              24\n",
            "           Conv2d-19             [-1, 12, 7, 7]           1,296\n",
            "             ReLU-20             [-1, 12, 7, 7]               0\n",
            "          Dropout-21             [-1, 12, 7, 7]               0\n",
            "      BatchNorm2d-22             [-1, 12, 7, 7]              24\n",
            "        MaxPool2d-23             [-1, 12, 3, 3]               0\n",
            "           Conv2d-24             [-1, 10, 1, 1]           1,080\n",
            "================================================================\n",
            "Total params: 6,422\n",
            "Trainable params: 6,422\n",
            "Non-trainable params: 0\n",
            "----------------------------------------------------------------\n",
            "Input size (MB): 0.00\n",
            "Forward/backward pass size (MB): 0.59\n",
            "Params size (MB): 0.02\n",
            "Estimated Total Size (MB): 0.61\n",
            "----------------------------------------------------------------\n"
          ]
        }
      ]
    },
    {
      "cell_type": "code",
      "source": [
        "# set up the optimizer with model parameters , learning rate and momentum\n",
        "optimizer = optim.SGD(model.parameters(), lr=0.01, momentum=0.9)\n",
        "#scheduler = torch.optim.lr_scheduler.ReduceLROnPlateau(optimizer,'min')\n",
        "#scheduler = torch.optim.lr_scheduler.StepLR(optimizer, step_size=6, gamma=0.1)"
      ],
      "metadata": {
        "id": "oqvv7YR0wqUq"
      },
      "execution_count": 27,
      "outputs": []
    },
    {
      "cell_type": "code",
      "metadata": {
        "id": "MMWbLWO6FuHb",
        "colab": {
          "base_uri": "https://localhost:8080/"
        },
        "outputId": "7b417be1-2153-4781-fbea-d9437d9fe9e9"
      },
      "source": [
        "# Data to plot accuracy and loss graphs\n",
        "train_losses = []\n",
        "test_losses = []\n",
        "train_acc = []\n",
        "test_acc = []\n",
        "# Number of Epochs or how many times the entire data is used for training\n",
        "num_epochs = 15\n",
        "for epoch in range(1, num_epochs+1):\n",
        "  print(f'Epoch {epoch}')\n",
        "  ## Send the model , device , train_loader,optimizer and loss function to the train function\n",
        "  train_accuracy,train_loss = train(model, device, train_loader, optimizer,epoch)\n",
        "  # Append the train accuracy and test loss value of the ith epoch\n",
        "  train_acc.append(train_accuracy)\n",
        "  train_losses.append(train_loss)\n",
        "\n",
        "  ## Send the model,device,test_loader and loss function\n",
        "  test_accuracy,test_loss = test(model, device, test_loader)\n",
        "  #store the test and loss and test accuracy for this epoch\n",
        "  test_losses.append(test_loss)\n",
        "  test_acc.append(test_accuracy)\n",
        "  #  learning rate of the optimizer will be adjusted according to the predefined schedule\n",
        "  #scheduler.step()"
      ],
      "execution_count": 28,
      "outputs": [
        {
          "output_type": "stream",
          "name": "stdout",
          "text": [
            "Epoch 1\n"
          ]
        },
        {
          "output_type": "stream",
          "name": "stderr",
          "text": [
            "Loss=0.022527290508151054 Accuracy=95.04: 100%|██████████| 938/938 [00:26<00:00, 35.19it/s]\n"
          ]
        },
        {
          "output_type": "stream",
          "name": "stdout",
          "text": [
            "\n",
            "Test set: Average loss: 0.0524, Accuracy: 9836/10000 (98.36%)\n",
            "\n",
            "Epoch 2\n"
          ]
        },
        {
          "output_type": "stream",
          "name": "stderr",
          "text": [
            "Loss=0.0032743089832365513 Accuracy=97.85: 100%|██████████| 938/938 [00:26<00:00, 35.70it/s]\n"
          ]
        },
        {
          "output_type": "stream",
          "name": "stdout",
          "text": [
            "\n",
            "Test set: Average loss: 0.0534, Accuracy: 9840/10000 (98.40%)\n",
            "\n",
            "Epoch 3\n"
          ]
        },
        {
          "output_type": "stream",
          "name": "stderr",
          "text": [
            "Loss=0.005328163504600525 Accuracy=98.20: 100%|██████████| 938/938 [00:26<00:00, 36.00it/s]\n"
          ]
        },
        {
          "output_type": "stream",
          "name": "stdout",
          "text": [
            "\n",
            "Test set: Average loss: 0.0363, Accuracy: 9877/10000 (98.77%)\n",
            "\n",
            "Epoch 4\n"
          ]
        },
        {
          "output_type": "stream",
          "name": "stderr",
          "text": [
            "Loss=0.031893596053123474 Accuracy=98.42: 100%|██████████| 938/938 [00:26<00:00, 35.75it/s]\n"
          ]
        },
        {
          "output_type": "stream",
          "name": "stdout",
          "text": [
            "\n",
            "Test set: Average loss: 0.0328, Accuracy: 9887/10000 (98.87%)\n",
            "\n",
            "Epoch 5\n"
          ]
        },
        {
          "output_type": "stream",
          "name": "stderr",
          "text": [
            "Loss=0.009825884364545345 Accuracy=98.61: 100%|██████████| 938/938 [00:26<00:00, 35.68it/s]\n"
          ]
        },
        {
          "output_type": "stream",
          "name": "stdout",
          "text": [
            "\n",
            "Test set: Average loss: 0.0306, Accuracy: 9902/10000 (99.02%)\n",
            "\n",
            "Epoch 6\n"
          ]
        },
        {
          "output_type": "stream",
          "name": "stderr",
          "text": [
            "Loss=0.011809446848928928 Accuracy=98.72: 100%|██████████| 938/938 [00:26<00:00, 36.01it/s]\n"
          ]
        },
        {
          "output_type": "stream",
          "name": "stdout",
          "text": [
            "\n",
            "Test set: Average loss: 0.0248, Accuracy: 9922/10000 (99.22%)\n",
            "\n",
            "Epoch 7\n"
          ]
        },
        {
          "output_type": "stream",
          "name": "stderr",
          "text": [
            "Loss=0.0744292140007019 Accuracy=98.75: 100%|██████████| 938/938 [00:25<00:00, 36.15it/s]\n"
          ]
        },
        {
          "output_type": "stream",
          "name": "stdout",
          "text": [
            "\n",
            "Test set: Average loss: 0.0261, Accuracy: 9919/10000 (99.19%)\n",
            "\n",
            "Epoch 8\n"
          ]
        },
        {
          "output_type": "stream",
          "name": "stderr",
          "text": [
            "Loss=0.12899407744407654 Accuracy=98.88: 100%|██████████| 938/938 [00:26<00:00, 36.06it/s]\n"
          ]
        },
        {
          "output_type": "stream",
          "name": "stdout",
          "text": [
            "\n",
            "Test set: Average loss: 0.0253, Accuracy: 9916/10000 (99.16%)\n",
            "\n",
            "Epoch 9\n"
          ]
        },
        {
          "output_type": "stream",
          "name": "stderr",
          "text": [
            "Loss=0.02519228495657444 Accuracy=98.92: 100%|██████████| 938/938 [00:25<00:00, 36.60it/s]\n"
          ]
        },
        {
          "output_type": "stream",
          "name": "stdout",
          "text": [
            "\n",
            "Test set: Average loss: 0.0305, Accuracy: 9901/10000 (99.01%)\n",
            "\n",
            "Epoch 10\n"
          ]
        },
        {
          "output_type": "stream",
          "name": "stderr",
          "text": [
            "Loss=0.0019915206357836723 Accuracy=98.93: 100%|██████████| 938/938 [00:25<00:00, 36.70it/s]\n"
          ]
        },
        {
          "output_type": "stream",
          "name": "stdout",
          "text": [
            "\n",
            "Test set: Average loss: 0.0266, Accuracy: 9901/10000 (99.01%)\n",
            "\n",
            "Epoch 11\n"
          ]
        },
        {
          "output_type": "stream",
          "name": "stderr",
          "text": [
            "Loss=0.003916210029274225 Accuracy=98.94: 100%|██████████| 938/938 [00:25<00:00, 37.03it/s]\n"
          ]
        },
        {
          "output_type": "stream",
          "name": "stdout",
          "text": [
            "\n",
            "Test set: Average loss: 0.0289, Accuracy: 9895/10000 (98.95%)\n",
            "\n",
            "Epoch 12\n"
          ]
        },
        {
          "output_type": "stream",
          "name": "stderr",
          "text": [
            "Loss=0.003155623795464635 Accuracy=99.02: 100%|██████████| 938/938 [00:25<00:00, 37.07it/s]\n"
          ]
        },
        {
          "output_type": "stream",
          "name": "stdout",
          "text": [
            "\n",
            "Test set: Average loss: 0.0240, Accuracy: 9911/10000 (99.11%)\n",
            "\n",
            "Epoch 13\n"
          ]
        },
        {
          "output_type": "stream",
          "name": "stderr",
          "text": [
            "Loss=0.0073797511868178844 Accuracy=99.07: 100%|██████████| 938/938 [00:25<00:00, 37.45it/s]\n"
          ]
        },
        {
          "output_type": "stream",
          "name": "stdout",
          "text": [
            "\n",
            "Test set: Average loss: 0.0246, Accuracy: 9917/10000 (99.17%)\n",
            "\n",
            "Epoch 14\n"
          ]
        },
        {
          "output_type": "stream",
          "name": "stderr",
          "text": [
            "Loss=0.006792416796088219 Accuracy=99.08: 100%|██████████| 938/938 [00:24<00:00, 37.55it/s]\n"
          ]
        },
        {
          "output_type": "stream",
          "name": "stdout",
          "text": [
            "\n",
            "Test set: Average loss: 0.0236, Accuracy: 9920/10000 (99.20%)\n",
            "\n",
            "Epoch 15\n"
          ]
        },
        {
          "output_type": "stream",
          "name": "stderr",
          "text": [
            "Loss=0.0007874748553149402 Accuracy=99.13: 100%|██████████| 938/938 [00:25<00:00, 37.49it/s]\n"
          ]
        },
        {
          "output_type": "stream",
          "name": "stdout",
          "text": [
            "\n",
            "Test set: Average loss: 0.0237, Accuracy: 9922/10000 (99.22%)\n",
            "\n"
          ]
        }
      ]
    },
    {
      "cell_type": "markdown",
      "source": [
        "Target:\n",
        "1.\tImprove the Accuracy of the model\n",
        "1.\tWe will try to do some image augmentation\n",
        "2.\tReduce Overfitting in the later stage\n",
        "\n",
        "\n",
        "Number of Parameters\t6422\n",
        "\n",
        "Best Training Accuracy\t99.13\n",
        "\n",
        "Best Test Accuracy\t99.28\n",
        "\n",
        "Number of Epoch\t15\n",
        "\n",
        "Model Name \tNet4\n",
        "\n",
        "Analysis:\n",
        "1.\tMaintained the model size\n",
        "2.\tThere is no more over-fitting. Test Accuracy is always greater than training accuracy\n"
      ],
      "metadata": {
        "id": "ri-Rr32zQTyc"
      }
    }
  ]
}